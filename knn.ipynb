{
 "cells": [
  {
   "cell_type": "code",
   "execution_count": 1,
   "metadata": {},
   "outputs": [
    {
     "name": "stdout",
     "output_type": "stream",
     "text": [
      "The given test point (2.5, 7) is classified to: Class 1\n",
      "The given test point (7, 2.5) is classified to: Class 2\n"
     ]
    }
   ],
   "source": [
    "from math import sqrt\n",
    "def euclidian_dist(p1,p2):\n",
    "    return sqrt(\n",
    "        sum([(x1-x2)**2 for (x1,x2) in zip(p1,p2)])\n",
    "    )\n",
    "\n",
    "class KNNClassifier:\n",
    "    def __init__(self,data_set,k=3,dist=euclidian_dist):\n",
    "        self.data_set = data_set\n",
    "        self.k = k\n",
    "        self.dist = dist\n",
    "    \n",
    "    def classify(self,test_point):\n",
    "        distances = sorted([    \n",
    "            (self.dist(data_point,test_point),data_class)\n",
    "            for data_class in self.data_set\n",
    "            for data_point in self.data_set[data_class]\n",
    "        ])[:self.k]\n",
    "        freqs={data_class:0 for data_class in self.data_set}\n",
    "        for (_,data_class) in distances:\n",
    "            freqs[data_class]+=1\n",
    "        return max(freqs,key = freqs.get)\n",
    "\n",
    "if __name__ == \"__main__\":\n",
    "    data_set = {\n",
    "        \"Class 1\":{(1,12),(2,5),(3,6),(3,10),(3.5,8),(2,11),(2,9),(1,7)},\n",
    "        \"Class 2\":{(5,3),(3,2),(1.5,9),(7,2),(6,1),(3.8,1),(5.6,4),(4,2),(2,5)}\n",
    "    }\n",
    "    test_points= [(2.5,7),(7,2.5)]\n",
    "    classifier = KNNClassifier(data_set,3)\n",
    "    for test_point in test_points:\n",
    "        print(\n",
    "            f\"The given test point {test_point} is classified to:\",\n",
    "            classifier.classify(test_point)\n",
    "        )"
   ]
  },
  {
   "cell_type": "code",
   "execution_count": null,
   "metadata": {},
   "outputs": [],
   "source": []
  }
 ],
 "metadata": {
  "kernelspec": {
   "display_name": "Python 3.9.13 ('base')",
   "language": "python",
   "name": "python3"
  },
  "language_info": {
   "codemirror_mode": {
    "name": "ipython",
    "version": 3
   },
   "file_extension": ".py",
   "mimetype": "text/x-python",
   "name": "python",
   "nbconvert_exporter": "python",
   "pygments_lexer": "ipython3",
   "version": "3.9.13"
  },
  "orig_nbformat": 4,
  "vscode": {
   "interpreter": {
    "hash": "5b30f736e45932896a1a27b0973802247d41f5c6dfddee68ac14f4b5531b8d9e"
   }
  }
 },
 "nbformat": 4,
 "nbformat_minor": 2
}
